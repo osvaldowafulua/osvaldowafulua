{
  "nbformat": 4,
  "nbformat_minor": 0,
  "metadata": {
    "colab": {
      "provenance": [],
      "authorship_tag": "ABX9TyMV08i52wFZf4+Qp0cNxyse",
      "include_colab_link": true
    },
    "kernelspec": {
      "name": "python3",
      "display_name": "Python 3"
    },
    "language_info": {
      "name": "python"
    }
  },
  "cells": [
    {
      "cell_type": "markdown",
      "metadata": {
        "id": "view-in-github",
        "colab_type": "text"
      },
      "source": [
        "<a href=\"https://colab.research.google.com/github/osvaldowafulua/osvaldowafulua/blob/main/Paced.ipynb\" target=\"_parent\"><img src=\"https://colab.research.google.com/assets/colab-badge.svg\" alt=\"Open In Colab\"/></a>"
      ]
    },
    {
      "cell_type": "code",
      "source": [
        "pip install rasterio"
      ],
      "metadata": {
        "colab": {
          "base_uri": "https://localhost:8080/"
        },
        "id": "kQfqwQRPlwKh",
        "outputId": "600f83cf-e5a0-4379-8f46-cb70c5647046"
      },
      "execution_count": 2,
      "outputs": [
        {
          "output_type": "stream",
          "name": "stdout",
          "text": [
            "Collecting rasterio\n",
            "  Downloading rasterio-1.3.9-cp310-cp310-manylinux2014_x86_64.whl (20.6 MB)\n",
            "\u001b[2K     \u001b[90m━━━━━━━━━━━━━━━━━━━━━━━━━━━━━━━━━━━━━━━━\u001b[0m \u001b[32m20.6/20.6 MB\u001b[0m \u001b[31m50.3 MB/s\u001b[0m eta \u001b[36m0:00:00\u001b[0m\n",
            "\u001b[?25hCollecting affine (from rasterio)\n",
            "  Downloading affine-2.4.0-py3-none-any.whl (15 kB)\n",
            "Requirement already satisfied: attrs in /usr/local/lib/python3.10/dist-packages (from rasterio) (23.1.0)\n",
            "Requirement already satisfied: certifi in /usr/local/lib/python3.10/dist-packages (from rasterio) (2023.7.22)\n",
            "Requirement already satisfied: click>=4.0 in /usr/local/lib/python3.10/dist-packages (from rasterio) (8.1.7)\n",
            "Requirement already satisfied: cligj>=0.5 in /usr/local/lib/python3.10/dist-packages (from rasterio) (0.7.2)\n",
            "Requirement already satisfied: numpy in /usr/local/lib/python3.10/dist-packages (from rasterio) (1.23.5)\n",
            "Collecting snuggs>=1.4.1 (from rasterio)\n",
            "  Downloading snuggs-1.4.7-py3-none-any.whl (5.4 kB)\n",
            "Requirement already satisfied: click-plugins in /usr/local/lib/python3.10/dist-packages (from rasterio) (1.1.1)\n",
            "Requirement already satisfied: setuptools in /usr/local/lib/python3.10/dist-packages (from rasterio) (67.7.2)\n",
            "Requirement already satisfied: pyparsing>=2.1.6 in /usr/local/lib/python3.10/dist-packages (from snuggs>=1.4.1->rasterio) (3.1.1)\n",
            "Installing collected packages: snuggs, affine, rasterio\n",
            "Successfully installed affine-2.4.0 rasterio-1.3.9 snuggs-1.4.7\n"
          ]
        }
      ]
    },
    {
      "cell_type": "code",
      "source": [
        "import rasterio\n",
        "from rasterio.plot import show\n",
        "\n",
        "path = '/CAMINHO_PARA_AS_PASTAS_DO_DATASET/01__ROI_0001__ROI_0023/ROI_0023/20200725T065629_20200725T070120_T40RBT/S2L2A.tif'\n",
        "\n",
        "with rasterio.open(caminho) as imagem:\n",
        "    matriz_imagem = imagem.read()\n",
        "\n",
        "print(matriz_imagem.shape)\n"
      ],
      "metadata": {
        "colab": {
          "base_uri": "https://localhost:8080/",
          "height": 668
        },
        "id": "KpL9yT3Qm1WI",
        "outputId": "946a7c3d-6929-429f-8f86-a59f9a78d16f"
      },
      "execution_count": 9,
      "outputs": [
        {
          "output_type": "error",
          "ename": "RasterioIOError",
          "evalue": "ignored",
          "traceback": [
            "\u001b[0;31m---------------------------------------------------------------------------\u001b[0m",
            "\u001b[0;31mCPLE_OpenFailedError\u001b[0m                      Traceback (most recent call last)",
            "\u001b[0;32mrasterio/_base.pyx\u001b[0m in \u001b[0;36mrasterio._base.DatasetBase.__init__\u001b[0;34m()\u001b[0m\n",
            "\u001b[0;32mrasterio/_base.pyx\u001b[0m in \u001b[0;36mrasterio._base.open_dataset\u001b[0;34m()\u001b[0m\n",
            "\u001b[0;32mrasterio/_err.pyx\u001b[0m in \u001b[0;36mrasterio._err.exc_wrap_pointer\u001b[0;34m()\u001b[0m\n",
            "\u001b[0;31mCPLE_OpenFailedError\u001b[0m: /CAMINHO_PARA_AS_PASTAS_DO_DATASET/01__ROI_0001__ROI_0023/ROI_0023/20200725T065629_20200725T070120_T40RBT/S2L2A.tif: No such file or directory",
            "\nDuring handling of the above exception, another exception occurred:\n",
            "\u001b[0;31mRasterioIOError\u001b[0m                           Traceback (most recent call last)",
            "\u001b[0;32m<ipython-input-9-7023cb77ee77>\u001b[0m in \u001b[0;36m<cell line: 6>\u001b[0;34m()\u001b[0m\n\u001b[1;32m      4\u001b[0m \u001b[0mpath\u001b[0m \u001b[0;34m=\u001b[0m \u001b[0;34m'/CAMINHO_PARA_AS_PASTAS_DO_DATASET/01__ROI_0001__ROI_0023/ROI_0023/20200725T065629_20200725T070120_T40RBT/S2L2A.tif'\u001b[0m\u001b[0;34m\u001b[0m\u001b[0;34m\u001b[0m\u001b[0m\n\u001b[1;32m      5\u001b[0m \u001b[0;34m\u001b[0m\u001b[0m\n\u001b[0;32m----> 6\u001b[0;31m \u001b[0;32mwith\u001b[0m \u001b[0mrasterio\u001b[0m\u001b[0;34m.\u001b[0m\u001b[0mopen\u001b[0m\u001b[0;34m(\u001b[0m\u001b[0mcaminho\u001b[0m\u001b[0;34m)\u001b[0m \u001b[0;32mas\u001b[0m \u001b[0mimagem\u001b[0m\u001b[0;34m:\u001b[0m\u001b[0;34m\u001b[0m\u001b[0;34m\u001b[0m\u001b[0m\n\u001b[0m\u001b[1;32m      7\u001b[0m     \u001b[0mmatriz_imagem\u001b[0m \u001b[0;34m=\u001b[0m \u001b[0mimagem\u001b[0m\u001b[0;34m.\u001b[0m\u001b[0mread\u001b[0m\u001b[0;34m(\u001b[0m\u001b[0;34m)\u001b[0m\u001b[0;34m\u001b[0m\u001b[0;34m\u001b[0m\u001b[0m\n\u001b[1;32m      8\u001b[0m \u001b[0;34m\u001b[0m\u001b[0m\n",
            "\u001b[0;32m/usr/local/lib/python3.10/dist-packages/rasterio/env.py\u001b[0m in \u001b[0;36mwrapper\u001b[0;34m(*args, **kwds)\u001b[0m\n\u001b[1;32m    449\u001b[0m \u001b[0;34m\u001b[0m\u001b[0m\n\u001b[1;32m    450\u001b[0m         \u001b[0;32mwith\u001b[0m \u001b[0menv_ctor\u001b[0m\u001b[0;34m(\u001b[0m\u001b[0msession\u001b[0m\u001b[0;34m=\u001b[0m\u001b[0msession\u001b[0m\u001b[0;34m)\u001b[0m\u001b[0;34m:\u001b[0m\u001b[0;34m\u001b[0m\u001b[0;34m\u001b[0m\u001b[0m\n\u001b[0;32m--> 451\u001b[0;31m             \u001b[0;32mreturn\u001b[0m \u001b[0mf\u001b[0m\u001b[0;34m(\u001b[0m\u001b[0;34m*\u001b[0m\u001b[0margs\u001b[0m\u001b[0;34m,\u001b[0m \u001b[0;34m**\u001b[0m\u001b[0mkwds\u001b[0m\u001b[0;34m)\u001b[0m\u001b[0;34m\u001b[0m\u001b[0;34m\u001b[0m\u001b[0m\n\u001b[0m\u001b[1;32m    452\u001b[0m \u001b[0;34m\u001b[0m\u001b[0m\n\u001b[1;32m    453\u001b[0m     \u001b[0;32mreturn\u001b[0m \u001b[0mwrapper\u001b[0m\u001b[0;34m\u001b[0m\u001b[0;34m\u001b[0m\u001b[0m\n",
            "\u001b[0;32m/usr/local/lib/python3.10/dist-packages/rasterio/__init__.py\u001b[0m in \u001b[0;36mopen\u001b[0;34m(fp, mode, driver, width, height, count, crs, transform, dtype, nodata, sharing, **kwargs)\u001b[0m\n\u001b[1;32m    302\u001b[0m \u001b[0;34m\u001b[0m\u001b[0m\n\u001b[1;32m    303\u001b[0m         \u001b[0;32mif\u001b[0m \u001b[0mmode\u001b[0m \u001b[0;34m==\u001b[0m \u001b[0;34m\"r\"\u001b[0m\u001b[0;34m:\u001b[0m\u001b[0;34m\u001b[0m\u001b[0;34m\u001b[0m\u001b[0m\n\u001b[0;32m--> 304\u001b[0;31m             \u001b[0mdataset\u001b[0m \u001b[0;34m=\u001b[0m \u001b[0mDatasetReader\u001b[0m\u001b[0;34m(\u001b[0m\u001b[0mpath\u001b[0m\u001b[0;34m,\u001b[0m \u001b[0mdriver\u001b[0m\u001b[0;34m=\u001b[0m\u001b[0mdriver\u001b[0m\u001b[0;34m,\u001b[0m \u001b[0msharing\u001b[0m\u001b[0;34m=\u001b[0m\u001b[0msharing\u001b[0m\u001b[0;34m,\u001b[0m \u001b[0;34m**\u001b[0m\u001b[0mkwargs\u001b[0m\u001b[0;34m)\u001b[0m\u001b[0;34m\u001b[0m\u001b[0;34m\u001b[0m\u001b[0m\n\u001b[0m\u001b[1;32m    305\u001b[0m         \u001b[0;32melif\u001b[0m \u001b[0mmode\u001b[0m \u001b[0;34m==\u001b[0m \u001b[0;34m\"r+\"\u001b[0m\u001b[0;34m:\u001b[0m\u001b[0;34m\u001b[0m\u001b[0;34m\u001b[0m\u001b[0m\n\u001b[1;32m    306\u001b[0m             dataset = get_writer_for_path(path, driver=driver)(\n",
            "\u001b[0;32mrasterio/_base.pyx\u001b[0m in \u001b[0;36mrasterio._base.DatasetBase.__init__\u001b[0;34m()\u001b[0m\n",
            "\u001b[0;31mRasterioIOError\u001b[0m: /CAMINHO_PARA_AS_PASTAS_DO_DATASET/01__ROI_0001__ROI_0023/ROI_0023/20200725T065629_20200725T070120_T40RBT/S2L2A.tif: No such file or directory"
          ]
        }
      ]
    },
    {
      "cell_type": "code",
      "source": [
        "import pandas as pd\n",
        "\n",
        "def ler_tif_para_dataframe(caminho_tif):\n",
        "    with rasterio.open(caminho_tif) as imagem:\n",
        "        matriz_imagem = imagem.read()\n",
        "\n",
        "    # Extrair informações relevantes da matriz_imagem e criar o DataFrame\n",
        "    # Adicionar colunas extras conforme necessário e definir os tipos de colunas apropriados\n",
        "\n",
        "    return df  # retornar o DataFrame\n"
      ],
      "metadata": {
        "id": "IGTMJKzCmnzH"
      },
      "execution_count": 4,
      "outputs": []
    },
    {
      "cell_type": "code",
      "source": [
        "import matplotlib.pyplot as plt\n",
        "import seaborn as sns\n",
        "import numpy as np\n",
        "from sklearn.decomposition import PCA\n",
        "from sklearn.manifold import TSNE\n",
        "\n",
        "def visualize_pixel_feature(pixel_values):\n",
        "    # Função para visualizar os valores de um pixel em diferentes bandas\n",
        "    plt.figure(figsize=(12, 6))\n",
        "    for i in range(pixel_values.shape[0]):\n",
        "        plt.subplot(1, pixel_values.shape[0], i+1)\n",
        "        plt.imshow(pixel_values[i, :, :], cmap='gray')\n",
        "        plt.title(f'Band {i+1}')\n",
        "        plt.axis('off')\n",
        "    plt.show()\n",
        "\n",
        "def visualize_statistics(dataframe):\n",
        "    # Visualizar estatísticas básicas do DataFrame\n",
        "    print(dataframe.describe())\n",
        "\n",
        "def visualize_correlation(dataframe):\n",
        "    # Visualizar matriz de correlação entre as colunas do DataFrame\n",
        "    correlation_matrix = dataframe.corr()\n",
        "    plt.figure(figsize=(12, 8))\n",
        "    sns.heatmap(correlation_matrix, annot=True, cmap='coolwarm', fmt=\".2f\")\n",
        "    plt.title('Matriz de Correlação')\n",
        "    plt.show()\n",
        "\n",
        "def reduce_dimensionality(dataframe, n_components=2, method='pca'):\n",
        "    # Redução de dimensionalidade (PCA ou t-SNE)\n",
        "    features = dataframe.drop(['ROI', 'Time'], axis=1)  # Ajuste conforme as suas colunas\n",
        "\n",
        "    if method == 'pca':\n",
        "        reducer = PCA(n_components=n_components)\n",
        "        reduced_data = reducer.fit_transform(features)\n",
        "    elif method == 'tsne':\n",
        "        reducer = TSNE(n_components=n_components, random_state=42)\n",
        "        reduced_data = reducer.fit_transform(features)\n",
        "    else:\n",
        "        raise ValueError(\"Método de redução de dimensionalidade não suportado.\")\n",
        "\n",
        "    return reduced_data\n",
        "\n",
        "def visualize_dimensionality_reduction(reduced_data, labels):\n",
        "    # Visualizar os resultados da redução de dimensionalidade\n",
        "    plt.figure(figsize=(8, 6))\n",
        "    plt.scatter(reduced_data[:, 0], reduced_data[:, 1], c=labels, cmap='viridis', alpha=0.7)\n",
        "    plt.title('Redução de Dimensionalidade')\n",
        "    plt.xlabel('Componente Principal 1')\n",
        "    plt.ylabel('Componente Principal 2')\n",
        "    plt.colorbar()\n",
        "    plt.show()\n"
      ],
      "metadata": {
        "id": "HBJnGWERmwuz"
      },
      "execution_count": 6,
      "outputs": []
    },
    {
      "cell_type": "code",
      "source": [
        "import pandas as pd\n",
        "import matplotlib.pyplot as plt\n",
        "import seaborn as sns\n",
        "from sklearn.decomposition import PCA\n",
        "from sklearn.manifold import TSNE\n",
        "\n",
        "# Suponha que você tenha um DataFrame chamado 'df' com seus dados\n",
        "\n",
        "# Adicione colunas extras - por exemplo, percentual de pixels nublados\n",
        "df['Percent_Cloudy_Pixels'] = (df['Num_Cloudy_Pixels'] / (509*509)) * 100\n",
        "\n",
        "# Verifique correlações entre as variáveis\n",
        "correlation_matrix = df.corr()\n",
        "\n",
        "# Visualize a matriz de correlação\n",
        "plt.figure(figsize=(12, 8))\n",
        "sns.heatmap(correlation_matrix, annot=True, cmap='coolwarm', fmt=\".2f\")\n",
        "plt.title('Matriz de Correlação')\n",
        "plt.show()\n",
        "\n",
        "# Visualize a distribuição de uma variável (por exemplo, percentual de pixels nublados)\n",
        "plt.figure(figsize=(10, 6))\n",
        "sns.histplot(df['Percent_Cloudy_Pixels'], bins=20, kde=True)\n",
        "plt.title('Distribuição do Percentual de Pixels Nublados')\n",
        "plt.xlabel('Percentual de Pixels Nublados')\n",
        "plt.ylabel('Contagem')\n",
        "plt.show()\n",
        "\n",
        "# Realize a redução de dimensionalidade (por exemplo, PCA)\n",
        "reduced_data = reduce_dimensionality(df, n_components=2, method='pca')\n",
        "\n",
        "# Visualize os resultados da redução de dimensionalidade\n",
        "plt.figure(figsize=(8, 6))\n",
        "plt.scatter(reduced_data.iloc[:, 0], reduced_data.iloc[:, 1], c=df['Label'], cmap='viridis', alpha=0.7)\n",
        "plt.title('Redução de Dimensionalidade (PCA)')\n",
        "plt.xlabel('Componente Principal 1')\n",
        "plt.ylabel('Componente Principal 2')\n",
        "plt.colorbar()\n",
        "plt.show()\n"
      ],
      "metadata": {
        "colab": {
          "base_uri": "https://localhost:8080/",
          "height": 245
        },
        "id": "2-AmGqpynZmS",
        "outputId": "8bf29f96-4580-4f4d-8edc-f2a369e245a1"
      },
      "execution_count": 7,
      "outputs": [
        {
          "output_type": "error",
          "ename": "NameError",
          "evalue": "ignored",
          "traceback": [
            "\u001b[0;31m---------------------------------------------------------------------------\u001b[0m",
            "\u001b[0;31mNameError\u001b[0m                                 Traceback (most recent call last)",
            "\u001b[0;32m<ipython-input-7-aae8f2640f7a>\u001b[0m in \u001b[0;36m<cell line: 10>\u001b[0;34m()\u001b[0m\n\u001b[1;32m      8\u001b[0m \u001b[0;34m\u001b[0m\u001b[0m\n\u001b[1;32m      9\u001b[0m \u001b[0;31m# Adicione colunas extras - por exemplo, percentual de pixels nublados\u001b[0m\u001b[0;34m\u001b[0m\u001b[0;34m\u001b[0m\u001b[0m\n\u001b[0;32m---> 10\u001b[0;31m \u001b[0mdf\u001b[0m\u001b[0;34m[\u001b[0m\u001b[0;34m'Percent_Cloudy_Pixels'\u001b[0m\u001b[0;34m]\u001b[0m \u001b[0;34m=\u001b[0m \u001b[0;34m(\u001b[0m\u001b[0mdf\u001b[0m\u001b[0;34m[\u001b[0m\u001b[0;34m'Num_Cloudy_Pixels'\u001b[0m\u001b[0;34m]\u001b[0m \u001b[0;34m/\u001b[0m \u001b[0;34m(\u001b[0m\u001b[0;36m509\u001b[0m\u001b[0;34m*\u001b[0m\u001b[0;36m509\u001b[0m\u001b[0;34m)\u001b[0m\u001b[0;34m)\u001b[0m \u001b[0;34m*\u001b[0m \u001b[0;36m100\u001b[0m\u001b[0;34m\u001b[0m\u001b[0;34m\u001b[0m\u001b[0m\n\u001b[0m\u001b[1;32m     11\u001b[0m \u001b[0;34m\u001b[0m\u001b[0m\n\u001b[1;32m     12\u001b[0m \u001b[0;31m# Verifique correlações entre as variáveis\u001b[0m\u001b[0;34m\u001b[0m\u001b[0;34m\u001b[0m\u001b[0m\n",
            "\u001b[0;31mNameError\u001b[0m: name 'df' is not defined"
          ]
        }
      ]
    },
    {
      "cell_type": "code",
      "source": [
        "import pandas as pd\n",
        "import matplotlib.pyplot as plt\n",
        "import seaborn as sns\n",
        "import numpy as np\n",
        "from sklearn.decomposition import PCA\n",
        "from sklearn.manifold import TSNE\n",
        "\n",
        "def visualize_pixel_feature(pixel_values):\n",
        "    # Função para visualizar os valores de um pixel em diferentes bandas\n",
        "    plt.figure(figsize=(12, 6))\n",
        "    for i in range(pixel_values.shape[0]):\n",
        "        plt.subplot(1, pixel_values.shape[0], i+1)\n",
        "        plt.imshow(pixel_values[i, :, :], cmap='gray')\n",
        "        plt.title(f'Band {i+1}')\n",
        "        plt.axis('off')\n",
        "    plt.show()\n",
        "\n",
        "def visualize_statistics(dataframe):\n",
        "    # Visualizar estatísticas básicas do DataFrame\n",
        "    plt.figure(figsize=(12, 8))\n",
        "    sns.boxplot(data=dataframe)\n",
        "    plt.title('Estatísticas dos Dados')\n",
        "    plt.show()\n",
        "\n",
        "def visualize_correlation(dataframe):\n",
        "    # Visualizar matriz de correlação entre as colunas do DataFrame\n",
        "    correlation_matrix = dataframe.corr()\n",
        "    plt.figure(figsize=(12, 8))\n",
        "    sns.heatmap(correlation_matrix, annot=True, cmap='coolwarm', fmt=\".2f\")\n",
        "    plt.title('Matriz de Correlação')\n",
        "    plt.show()\n",
        "\n",
        "def reduce_dimensionality(dataframe, n_components=2, method='pca'):\n",
        "    # Redução de dimensionalidade (PCA ou t-SNE)\n",
        "    features = dataframe.drop(['ROI', 'Time'], axis=1)  # Ajuste conforme as suas colunas\n",
        "\n",
        "    if method == 'pca':\n",
        "        reducer = PCA(n_components=n_components)\n",
        "        reduced_data = reducer.fit_transform(features)\n",
        "    elif method == 'tsne':\n",
        "        reducer = TSNE(n_components=n_components, random_state=42)\n",
        "        reduced_data = reducer.fit_transform(features)\n",
        "    else:\n",
        "        raise ValueError(\"Método de redução de dimensionalidade não suportado.\")\n",
        "\n",
        "    reduced_df = pd.DataFrame(reduced_data, columns=[f'Componente {i+1}' for i in range(n_components)])\n",
        "    return reduced_df\n",
        "\n",
        "def visualize_dimensionality_reduction(reduced_data, labels):\n",
        "    # Visualizar os resultados da redução de dimensionalidade\n",
        "    plt.figure(figsize=(8, 6))\n",
        "    plt.scatter(reduced_data.iloc[:, 0], reduced_data.iloc[:, 1], c=labels, cmap='viridis', alpha=0.7)\n",
        "    plt.title('Redução de Dimensionalidade')\n",
        "    plt.xlabel('Componente Principal 1')\n",
        "    plt.ylabel('Componente Principal 2')\n",
        "    plt.colorbar()\n",
        "    plt.show()\n"
      ],
      "metadata": {
        "id": "taTCQmoZneTE"
      },
      "execution_count": 8,
      "outputs": []
    }
  ]
}